{
 "cells": [
  {
   "cell_type": "code",
   "execution_count": null,
   "metadata": {},
   "outputs": [],
   "source": [
    "import numpy as np\n",
    "\n",
    "cupcakes = np.array([2, 0.75, 2, 1, 0.5])\n",
    "recipes = np.genfromtxt(\"recipes.csv\", delimiter = \",\")\n",
    "\n",
    "print(recipes)\n",
    "\n",
    "eggs = recipes[:,2]\n",
    "need_1_egg = recipes[:,2] == 1\n",
    "print(need_1_egg)\n",
    "\n",
    "cookies = recipes[2,:]\n",
    "double_batch = cupcakes * 2\n",
    "\n",
    "grocery_list = [cookies, double_batch]\n",
    "print(grocery_list)"
   ]
  }
 ],
 "metadata": {
  "kernelspec": {
   "display_name": "Python 3",
   "language": "python",
   "name": "python3"
  },
  "language_info": {
   "codemirror_mode": {
    "name": "ipython",
    "version": 3
   },
   "file_extension": ".py",
   "mimetype": "text/x-python",
   "name": "python",
   "nbconvert_exporter": "python",
   "pygments_lexer": "ipython3",
   "version": "3.6.4"
  }
 },
 "nbformat": 4,
 "nbformat_minor": 2
}
