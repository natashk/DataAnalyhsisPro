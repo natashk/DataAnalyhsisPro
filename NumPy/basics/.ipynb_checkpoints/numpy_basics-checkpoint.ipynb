{
 "cells": [
  {
   "cell_type": "code",
   "execution_count": null,
   "metadata": {},
   "outputs": [],
   "source": [
    "import numpy as np\n",
    "\n",
    "temperatures = np.genfromtxt(\"temperature_data.csv\", delimiter = \",\")\n",
    "temperatures_fixed = temperatures + 3.0\n",
    "monday_temperatures = temperatures_fixed[0,:]\n",
    "thursday_friday_morning = temperatures_fixed[3:5,1]\n",
    "temperature_extremes = temperatures_fixed[(temperatures_fixed < 50) | (temperatures_fixed > 60)]\n"
   ]
  }
 ],
 "metadata": {
  "kernelspec": {
   "display_name": "Python 3",
   "language": "python",
   "name": "python3"
  },
  "language_info": {
   "codemirror_mode": {
    "name": "ipython",
    "version": 3
   },
   "file_extension": ".py",
   "mimetype": "text/x-python",
   "name": "python",
   "nbconvert_exporter": "python",
   "pygments_lexer": "ipython3",
   "version": "3.6.4"
  }
 },
 "nbformat": 4,
 "nbformat_minor": 2
}
