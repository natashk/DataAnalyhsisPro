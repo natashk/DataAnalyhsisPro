{
 "cells": [
  {
   "cell_type": "code",
   "execution_count": 1,
   "metadata": {},
   "outputs": [
    {
     "name": "stdout",
     "output_type": "stream",
     "text": [
      "0.8644067796610169\n"
     ]
    }
   ],
   "source": [
    "import numpy as np\n",
    "\n",
    "\"\"\"\n",
    "Grading a multiple choice exam is easy. But how much does it tell us about what a student really knows? Dr. Dirac is giving a statistics midterm and wants to use Bayes' Theorem to help him understand how likely that a student really understands the material given that she has gotten a particular question correct.\n",
    "\n",
    "Dr. Dirac knows the following probabilities based on many years of teaching:\n",
    "\n",
    "There is a problem that 60% of students know the correct answer\n",
    "Given that a student knows the correct answer, there is still a 15% chance that a student picked the wrong answer\n",
    "Given that a student does not know the answer, there is still a 20% chance that the student picks the correct answer by guessing\n",
    "Eventually, we will answer the following question:\n",
    "\n",
    "Given that a student answered a question correctly, what is the probability that she really knows the material?\n",
    "\"\"\"\n",
    "\n",
    "\"\"\"\n",
    "P(A|B) = P(B|A) * P(A) / P(B)\n",
    "\n",
    "A - student really knows the material\n",
    "B - student answered a question correctly\n",
    "\"\"\"\n",
    "\n",
    "p_knows = 0.6\n",
    "p_doesnt_know = 1 - p_knows\n",
    "p_correct_given_knows = 0.85\n",
    "p_correct_given_doesnt_know = 0.2\n",
    "P_correct = p_correct_given_knows * p_knows + p_correct_given_doesnt_know * p_doesnt_know\n",
    "\n",
    "p_knows_given_correct = p_correct_given_knows * p_knows / P_correct\n",
    "\n",
    "print(p_knows_given_correct)\n",
    "\n"
   ]
  },
  {
   "cell_type": "code",
   "execution_count": null,
   "metadata": {},
   "outputs": [],
   "source": []
  }
 ],
 "metadata": {
  "kernelspec": {
   "display_name": "Python 3",
   "language": "python",
   "name": "python3"
  },
  "language_info": {
   "codemirror_mode": {
    "name": "ipython",
    "version": 3
   },
   "file_extension": ".py",
   "mimetype": "text/x-python",
   "name": "python",
   "nbconvert_exporter": "python",
   "pygments_lexer": "ipython3",
   "version": "3.6.4"
  }
 },
 "nbformat": 4,
 "nbformat_minor": 2
}
