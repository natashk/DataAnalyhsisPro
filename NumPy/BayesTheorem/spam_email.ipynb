{
 "cells": [
  {
   "cell_type": "code",
   "execution_count": 1,
   "metadata": {},
   "outputs": [
    {
     "name": "stdout",
     "output_type": "stream",
     "text": [
      "0.9259259259259259\n"
     ]
    }
   ],
   "source": [
    "import numpy as np\n",
    "\n",
    "\"\"\"\n",
    "Let's a take word that often appears in spam: \"enhancement\". With just 3 facts, we can make some preliminary steps towards a good spam filter:\n",
    "\n",
    "\"enhancement\" appears in just 0.1% of non-spam emails\n",
    "\"enhancement\" appears in 5% of spam emails\n",
    "Spam emails make up about 20% of total emails\n",
    "Given that an email contains \"enhancement\", what is the probability that the email is spam?\n",
    "\"\"\"\n",
    "\n",
    "a = \"spam\"\n",
    "b = \"enhancement\"\n",
    "\n",
    "p_spam = 0.2\n",
    "p_nonspam = 1 - p_spam\n",
    "p_enhancement_given_spam = 0.05\n",
    "p_enhancement_given_nonspam = 0.001\n",
    "p_enhancement = p_enhancement_given_spam * p_spam + p_enhancement_given_nonspam * p_nonspam\n",
    "\n",
    "p_spam_enhancement = p_enhancement_given_spam * p_spam / p_enhancement\n",
    "\n",
    "print(p_spam_enhancement)\n"
   ]
  },
  {
   "cell_type": "code",
   "execution_count": null,
   "metadata": {},
   "outputs": [],
   "source": []
  }
 ],
 "metadata": {
  "kernelspec": {
   "display_name": "Python 3",
   "language": "python",
   "name": "python3"
  },
  "language_info": {
   "codemirror_mode": {
    "name": "ipython",
    "version": 3
   },
   "file_extension": ".py",
   "mimetype": "text/x-python",
   "name": "python",
   "nbconvert_exporter": "python",
   "pygments_lexer": "ipython3",
   "version": "3.6.4"
  }
 },
 "nbformat": 4,
 "nbformat_minor": 2
}
