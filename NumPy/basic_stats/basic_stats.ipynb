{
 "cells": [
  {
   "cell_type": "code",
   "execution_count": null,
   "metadata": {},
   "outputs": [],
   "source": [
    "import numpy as np\n",
    "\n",
    "calorie_stats = np.genfromtxt(\"cereal.csv\", delimiter = \",\")\n",
    "print(calorie_stats)\n",
    "\n",
    "average_calories = np.mean(calorie_stats)\n",
    "print(average_calories)\n",
    "\n",
    "calorie_stats_sorted = np.sort(calorie_stats)\n",
    "print(calorie_stats_sorted)\n",
    "\n",
    "median_calories = np.median(calorie_stats)\n",
    "print(median_calories)\n",
    "\n",
    "nth_percentile = np.percentile(calorie_stats, 4)\n",
    "print(nth_percentile)\n",
    "\n",
    "more_calories = np.mean(calorie_stats > 60)\n",
    "print(more_calories)\n",
    "\n",
    "calorie_std = np.std(calorie_stats)\n",
    "print(calorie_std)\n"
   ]
  }
 ],
 "metadata": {
  "kernelspec": {
   "display_name": "Python 3",
   "language": "python",
   "name": "python3"
  },
  "language_info": {
   "codemirror_mode": {
    "name": "ipython",
    "version": 3
   },
   "file_extension": ".py",
   "mimetype": "text/x-python",
   "name": "python",
   "nbconvert_exporter": "python",
   "pygments_lexer": "ipython3",
   "version": "3.6.4"
  }
 },
 "nbformat": 4,
 "nbformat_minor": 2
}
