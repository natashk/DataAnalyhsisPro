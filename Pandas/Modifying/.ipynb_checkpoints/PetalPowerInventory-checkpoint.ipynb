{
 "cells": [
  {
   "cell_type": "code",
   "execution_count": 1,
   "metadata": {},
   "outputs": [
    {
     "name": "stdout",
     "output_type": "stream",
     "text": [
      "        location  product_type         product_description  quantity  price\n",
      "0  Staten Island         seeds                       daisy         4   6.99\n",
      "1  Staten Island         seeds                  calla lily        46  19.99\n",
      "2  Staten Island         seeds                      tomato        85  13.99\n",
      "3  Staten Island  garden tools                        rake         4  13.99\n",
      "4  Staten Island  garden tools                 wheelbarrow         0  89.99\n",
      "5  Staten Island  garden tools                       spade        93  19.99\n",
      "6  Staten Island  pest_control               insect killer        74  12.99\n",
      "7  Staten Island  pest_control                 weed killer         8  23.99\n",
      "8  Staten Island       planter  20 inch terracotta planter         0  17.99\n",
      "9  Staten Island       planter      8 inch plastic planter        53   3.99\n",
      "        location  product_type         product_description  quantity  price  \\\n",
      "0  Staten Island         seeds                       daisy         4   6.99   \n",
      "1  Staten Island         seeds                  calla lily        46  19.99   \n",
      "2  Staten Island         seeds                      tomato        85  13.99   \n",
      "3  Staten Island  garden tools                        rake         4  13.99   \n",
      "4  Staten Island  garden tools                 wheelbarrow         0  89.99   \n",
      "5  Staten Island  garden tools                       spade        93  19.99   \n",
      "6  Staten Island  pest_control               insect killer        74  12.99   \n",
      "7  Staten Island  pest_control                 weed killer         8  23.99   \n",
      "8  Staten Island       planter  20 inch terracotta planter         0  17.99   \n",
      "9  Staten Island       planter      8 inch plastic planter        53   3.99   \n",
      "\n",
      "   in_stock  total_value                      full_description  \n",
      "0      True        27.96                         seeds - daisy  \n",
      "1      True       919.54                    seeds - calla lily  \n",
      "2      True      1189.15                        seeds - tomato  \n",
      "3      True        55.96                   garden tools - rake  \n",
      "4     False         0.00            garden tools - wheelbarrow  \n",
      "5      True      1859.07                  garden tools - spade  \n",
      "6      True       961.26          pest_control - insect killer  \n",
      "7      True       191.92            pest_control - weed killer  \n",
      "8     False         0.00  planter - 20 inch terracotta planter  \n",
      "9      True       211.47      planter - 8 inch plastic planter  \n"
     ]
    }
   ],
   "source": [
    "import pandas as pd\n",
    "\n",
    "inventory = pd.read_csv(\"inventory.csv\")\n",
    "print(inventory.head(10))\n",
    "staten_island = inventory[inventory.location == \"Staten Island\"]\n",
    "product_request = staten_island[\"product_description\"]\n",
    "seed_request = inventory[(inventory[\"location\"] == \"Brooklyn\") &(inventory[\"product_type\"] == \"seeds\")]\n",
    "inventory[\"in_stock\"] = inventory[\"quantity\"].apply(lambda n: True if n > 0 else False)\n",
    "inventory[\"total_value\"] = inventory.apply(lambda row: row[\"price\"] * row[\"quantity\"], axis = 1)\n",
    "combine_lambda = lambda row: \\\n",
    "    '{} - {}'.format(row.product_type,\n",
    "                     row.product_description)\n",
    "inventory[\"full_description\"] = inventory.apply(combine_lambda, axis = 1)\n",
    "print(inventory.head(10))"
   ]
  },
  {
   "cell_type": "code",
   "execution_count": null,
   "metadata": {},
   "outputs": [],
   "source": []
  }
 ],
 "metadata": {
  "kernelspec": {
   "display_name": "Python 3",
   "language": "python",
   "name": "python3"
  },
  "language_info": {
   "codemirror_mode": {
    "name": "ipython",
    "version": 3
   },
   "file_extension": ".py",
   "mimetype": "text/x-python",
   "name": "python",
   "nbconvert_exporter": "python",
   "pygments_lexer": "ipython3",
   "version": "3.6.4"
  }
 },
 "nbformat": 4,
 "nbformat_minor": 2
}
