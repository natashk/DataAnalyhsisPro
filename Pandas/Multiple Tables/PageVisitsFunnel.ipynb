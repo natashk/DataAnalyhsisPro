{
 "cells": [
  {
   "cell_type": "code",
   "execution_count": 10,
   "metadata": {},
   "outputs": [
    {
     "name": "stdout",
     "output_type": "stream",
     "text": [
      "                                user_id          visit_time\n",
      "0  943647ef-3682-4750-a2e1-918ba6f16188 2017-04-07 15:14:00\n",
      "1  0c3a3dd0-fb64-4eac-bf84-ba069ce409f2 2017-01-26 14:24:00\n",
      "2  6e0b2d60-4027-4d9a-babd-0e7d40859fb1 2017-08-20 08:23:00\n",
      "2000\n",
      "                                user_id           cart_time\n",
      "0  2be90e7c-9cca-44e0-bcc5-124b945ff168 2017-11-07 20:45:00\n",
      "1  4397f73f-1da3-4ab3-91af-762792e25973 2017-05-27 01:35:00\n",
      "2  a9db3d4b-0a0a-4398-a55a-ebb2c7adf663 2017-03-04 10:38:00\n",
      "400\n",
      "                                user_id       checkout_time\n",
      "0  d33bdc47-4afa-45bc-b4e4-dbe948e34c0d 2017-06-25 09:29:00\n",
      "1  4ac186f0-9954-4fea-8a27-c081e428e34e 2017-04-07 20:11:00\n",
      "2  3c9c78a7-124a-4b77-8d2e-e1926e011e7d 2017-07-13 11:38:00\n",
      "360\n",
      "                                user_id       purchase_time\n",
      "0  4b44ace4-2721-47a0-b24b-15fbfa2abf85 2017-05-11 04:25:00\n",
      "1  02e684ae-a448-408f-a9ff-dcb4a5c99aac 2017-09-05 08:45:00\n",
      "2  4b4bc391-749e-4b90-ab8f-4f6e3c84d6dc 2017-11-20 20:49:00\n",
      "252\n"
     ]
    }
   ],
   "source": [
    "import pandas as pd\n",
    "\n",
    "visits = pd.read_csv('visits.csv', parse_dates=[1])\n",
    "cart = pd.read_csv('cart.csv',\n",
    "                   parse_dates=[1])\n",
    "checkout = pd.read_csv('checkout.csv',\n",
    "                       parse_dates=[1])\n",
    "purchase = pd.read_csv('purchase.csv',\n",
    "                       parse_dates=[1])\n",
    "print(visits.head(3))\n",
    "print(len(visits))\n",
    "print(cart.head(3))\n",
    "print(len(cart))\n",
    "print(checkout.head(3))\n",
    "print(len(checkout))\n",
    "print(purchase.head(3))\n",
    "print(len(purchase))\n",
    "\n"
   ]
  },
  {
   "cell_type": "code",
   "execution_count": 11,
   "metadata": {},
   "outputs": [
    {
     "name": "stdout",
     "output_type": "stream",
     "text": [
      "2052\n",
      "1652\n",
      "80.50682261208577%\n"
     ]
    }
   ],
   "source": [
    "\"\"\"\n",
    "What percent of users who visited Cool T-Shirts Inc. ended up not placing a t-shirt in their cart?\n",
    "\"\"\"\n",
    "v_c_left = pd.merge(\n",
    "  visits,\n",
    "  cart,\n",
    "  how = \"left\"\n",
    ")\n",
    "print(len(v_c_left))\n",
    "\n",
    "cart_time_null = v_c_left[v_c_left[\"cart_time\"].isnull()]\n",
    "print(len(cart_time_null))\n",
    "\n",
    "cart_time_null_pct = float(len(cart_time_null)) * 100 / len(v_c_left)\n",
    "print(str(cart_time_null_pct) + \"%\")\n",
    "\n"
   ]
  },
  {
   "cell_type": "code",
   "execution_count": 14,
   "metadata": {},
   "outputs": [
    {
     "name": "stdout",
     "output_type": "stream",
     "text": [
      "602\n",
      "126\n",
      "20.930232558139537%\n"
     ]
    }
   ],
   "source": [
    "\"\"\"\n",
    "What percentage of users put items in their cart, but did not proceed to checkout?\n",
    "\"\"\"\n",
    "c_co_left = pd.merge(\n",
    "  cart,\n",
    "  checkout,\n",
    "  how = \"left\"\n",
    ")\n",
    "print(len(c_co_left))\n",
    "\n",
    "checkout_time_null = c_co_left[c_co_left[\"checkout_time\"].isnull()]\n",
    "print(len(checkout_time_null))\n",
    "\n",
    "checkout_time_null_pct = float(len(checkout_time_null)) * 100 / len(c_co_left)\n",
    "print(str(checkout_time_null_pct) + \"%\")\n"
   ]
  },
  {
   "cell_type": "code",
   "execution_count": 15,
   "metadata": {},
   "outputs": [
    {
     "name": "stdout",
     "output_type": "stream",
     "text": [
      "                                user_id          visit_time  \\\n",
      "0  943647ef-3682-4750-a2e1-918ba6f16188 2017-04-07 15:14:00   \n",
      "1  0c3a3dd0-fb64-4eac-bf84-ba069ce409f2 2017-01-26 14:24:00   \n",
      "2  6e0b2d60-4027-4d9a-babd-0e7d40859fb1 2017-08-20 08:23:00   \n",
      "\n",
      "            cart_time       checkout_time       purchase_time  \n",
      "0                 NaT                 NaT                 NaT  \n",
      "1 2017-01-26 14:44:00 2017-01-26 14:54:00 2017-01-26 15:08:00  \n",
      "2 2017-08-20 08:31:00                 NaT                 NaT  \n",
      "2594\n"
     ]
    }
   ],
   "source": [
    "all_data = visits.merge(\n",
    "  cart,\n",
    "  how = \"left\"\n",
    ").merge(\n",
    "  checkout,\n",
    "  how = \"left\"\n",
    ").merge(\n",
    "  purchase,\n",
    "  how = \"left\"\n",
    ")\n",
    "print(all_data.head(3))\n",
    "print(len(all_data))\n"
   ]
  },
  {
   "cell_type": "code",
   "execution_count": 18,
   "metadata": {},
   "outputs": [
    {
     "name": "stdout",
     "output_type": "stream",
     "text": [
      "598\n",
      "101\n",
      "16.889632107023413%\n"
     ]
    }
   ],
   "source": [
    "\"\"\"\n",
    "What percentage of users put items in their cart, but did not proceed to checkout?\n",
    "\"\"\"\n",
    "co_p_left = pd.merge(\n",
    "  checkout,\n",
    "  purchase,\n",
    "  how = \"left\"\n",
    ")\n",
    "print(len(co_p_left))\n",
    "\n",
    "purchase_time_null = co_p_left[co_p_left[\"purchase_time\"].isnull()]\n",
    "print(len(purchase_time_null))\n",
    "\n",
    "purchase_time_null_pct = float(len(purchase_time_null)) * 100 / len(co_p_left)\n",
    "print(str(purchase_time_null_pct) + \"%\")\n"
   ]
  },
  {
   "cell_type": "code",
   "execution_count": 19,
   "metadata": {},
   "outputs": [
    {
     "name": "stdout",
     "output_type": "stream",
     "text": [
      "0           NaT\n",
      "1      00:44:00\n",
      "2           NaT\n",
      "3           NaT\n",
      "4           NaT\n",
      "5           NaT\n",
      "6           NaT\n",
      "7           NaT\n",
      "8           NaT\n",
      "9           NaT\n",
      "10          NaT\n",
      "11          NaT\n",
      "12          NaT\n",
      "13          NaT\n",
      "14          NaT\n",
      "15     00:38:00\n",
      "16          NaT\n",
      "17          NaT\n",
      "18          NaT\n",
      "19          NaT\n",
      "20          NaT\n",
      "21          NaT\n",
      "22          NaT\n",
      "23          NaT\n",
      "24          NaT\n",
      "25          NaT\n",
      "26          NaT\n",
      "27          NaT\n",
      "28          NaT\n",
      "29          NaT\n",
      "         ...   \n",
      "2564        NaT\n",
      "2565        NaT\n",
      "2566        NaT\n",
      "2567        NaT\n",
      "2568        NaT\n",
      "2569        NaT\n",
      "2570        NaT\n",
      "2571        NaT\n",
      "2572        NaT\n",
      "2573   00:46:00\n",
      "2574        NaT\n",
      "2575        NaT\n",
      "2576        NaT\n",
      "2577   00:32:00\n",
      "2578   00:28:00\n",
      "2579   00:11:00\n",
      "2580   00:32:00\n",
      "2581   00:28:00\n",
      "2582   00:11:00\n",
      "2583   00:32:00\n",
      "2584   00:28:00\n",
      "2585   00:11:00\n",
      "2586        NaT\n",
      "2587        NaT\n",
      "2588        NaT\n",
      "2589        NaT\n",
      "2590        NaT\n",
      "2591        NaT\n",
      "2592        NaT\n",
      "2593        NaT\n",
      "Name: time_to_purchase, Length: 2594, dtype: timedelta64[ns]\n",
      "0 days 00:44:02.672413\n"
     ]
    }
   ],
   "source": [
    "all_data['time_to_purchase'] = \\\n",
    "    all_data.purchase_time - \\\n",
    "    all_data.visit_time\n",
    "print(all_data.time_to_purchase)\n",
    "print(all_data.time_to_purchase.mean())\n"
   ]
  },
  {
   "cell_type": "code",
   "execution_count": null,
   "metadata": {},
   "outputs": [],
   "source": []
  }
 ],
 "metadata": {
  "kernelspec": {
   "display_name": "Python 3",
   "language": "python",
   "name": "python3"
  },
  "language_info": {
   "codemirror_mode": {
    "name": "ipython",
    "version": 3
   },
   "file_extension": ".py",
   "mimetype": "text/x-python",
   "name": "python",
   "nbconvert_exporter": "python",
   "pygments_lexer": "ipython3",
   "version": "3.6.4"
  }
 },
 "nbformat": 4,
 "nbformat_minor": 2
}
