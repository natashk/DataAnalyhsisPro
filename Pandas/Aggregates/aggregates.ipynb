{
 "cells": [
  {
   "cell_type": "code",
   "execution_count": 1,
   "metadata": {},
   "outputs": [
    {
     "name": "stdout",
     "output_type": "stream",
     "text": [
      "      id first_name last_name                       email         month  \\\n",
      "0  10043      Louis      Koch       LouisKoch43@gmail.com     3 - March   \n",
      "1  10150      Bruce      Webb     BruceWebb44@outlook.com     3 - March   \n",
      "2  10155   Nicholas   Hoffman  Nicholas.Hoffman@gmail.com  2 - February   \n",
      "3  10178    William       Key     William.Key@outlook.com     3 - March   \n",
      "4  10208      Karen      Bass            KB4971@gmail.com  2 - February   \n",
      "\n",
      "  utm_source  \n",
      "0      yahoo  \n",
      "1    twitter  \n",
      "2     google  \n",
      "3      yahoo  \n",
      "4     google  \n",
      "  utm_source   id\n",
      "0      email  462\n",
      "1   facebook  823\n",
      "2     google  543\n",
      "3    twitter  415\n",
      "4      yahoo  757\n",
      "month utm_source  1 - January  2 - February  3 - March\n",
      "0          email           43           147        272\n",
      "1       facebook          404           263        156\n",
      "2         google          127           196        220\n",
      "3        twitter          164           154         97\n",
      "4          yahoo          262           240        255\n"
     ]
    }
   ],
   "source": [
    "import pandas as pd\n",
    "\n",
    "user_visits = pd.read_csv('page_visits.csv')\n",
    "print(user_visits.head())\n",
    "click_source = user_visits.groupby(\"utm_source\").id.count().reset_index()\n",
    "print(click_source)\n",
    "click_source_by_month = user_visits.groupby([\"utm_source\", \"month\"]).id.count().reset_index()\n",
    "click_source_by_month_pivot = click_source_by_month.pivot(\n",
    "  columns = \"month\",\n",
    "  index = \"utm_source\",\n",
    "  values = \"id\"\n",
    ").reset_index()\n",
    "print(click_source_by_month_pivot)\n"
   ]
  },
  {
   "cell_type": "code",
   "execution_count": null,
   "metadata": {},
   "outputs": [],
   "source": []
  }
 ],
 "metadata": {
  "kernelspec": {
   "display_name": "Python 3",
   "language": "python",
   "name": "python3"
  },
  "language_info": {
   "codemirror_mode": {
    "name": "ipython",
    "version": 3
   },
   "file_extension": ".py",
   "mimetype": "text/x-python",
   "name": "python",
   "nbconvert_exporter": "python",
   "pygments_lexer": "ipython3",
   "version": "3.6.4"
  }
 },
 "nbformat": 4,
 "nbformat_minor": 2
}
