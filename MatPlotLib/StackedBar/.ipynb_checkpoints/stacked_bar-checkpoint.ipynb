{
 "cells": [
  {
   "cell_type": "code",
   "execution_count": 1,
   "metadata": {},
   "outputs": [
    {
     "name": "stderr",
     "output_type": "stream",
     "text": [
      "d:\\python\\miniconda3\\lib\\site-packages\\matplotlib\\cbook\\deprecation.py:107: MatplotlibDeprecationWarning: Adding an axes using the same arguments as a previous axes currently reuses the earlier instance.  In a future version, a new instance will always be created and returned.  Meanwhile, this warning can be suppressed, and the future behavior ensured, by passing a unique label to each axes instance.\n",
      "  warnings.warn(message, mplDeprecation, stacklevel=1)\n"
     ]
    }
   ],
   "source": [
    "from matplotlib import pyplot as plt\n",
    "import numpy as np\n",
    "\n",
    "unit_topics = ['Limits', 'Derivatives', 'Integrals', 'Diff Eq', 'Applications']\n",
    "As = [6, 3, 4, 3, 5]\n",
    "Bs = [8, 12, 8, 9, 10]\n",
    "Cs = [13, 12, 15, 13, 14]\n",
    "Ds = [2, 3, 3, 2, 1]\n",
    "Fs = [1, 0, 0, 3, 0]\n",
    "\n",
    "x = range(5)\n",
    "\n",
    "c_bottom = np.add(As, Bs)\n",
    "#create d_bottom and f_bottom here\n",
    "d_bottom = np.add(c_bottom, Cs)\n",
    "f_bottom = np.add(d_bottom, Ds)\n",
    "\n",
    "#create your plot here\n",
    "plt.figure(figsize = (10, 8))\n",
    "plt.bar(x, As)\n",
    "plt.bar(x, Bs, bottom=As)\n",
    "plt.bar(x, Cs, bottom=c_bottom)\n",
    "plt.bar(x, Ds, bottom=d_bottom)\n",
    "plt.bar(x, Fs, bottom=f_bottom)\n",
    "ax = plt.subplot()\n",
    "ax.set_xticks(range(len(unit_topics)))\n",
    "ax.set_xticklabels(unit_topics)\n",
    "plt.title(\"Grade distribution\")\n",
    "ax.set_xlabel(\"Unit\")\n",
    "ax.set_ylabel(\"Number of Students\")\n",
    "plt.savefig(\"my_stacked_bar.png\")\n",
    "#plt.show()"
   ]
  },
  {
   "cell_type": "code",
   "execution_count": null,
   "metadata": {},
   "outputs": [],
   "source": []
  }
 ],
 "metadata": {
  "kernelspec": {
   "display_name": "Python 3",
   "language": "python",
   "name": "python3"
  },
  "language_info": {
   "codemirror_mode": {
    "name": "ipython",
    "version": 3
   },
   "file_extension": ".py",
   "mimetype": "text/x-python",
   "name": "python",
   "nbconvert_exporter": "python",
   "pygments_lexer": "ipython3",
   "version": "3.6.4"
  }
 },
 "nbformat": 4,
 "nbformat_minor": 2
}
