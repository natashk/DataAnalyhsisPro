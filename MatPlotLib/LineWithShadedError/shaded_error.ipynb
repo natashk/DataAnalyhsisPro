{
 "cells": [
  {
   "cell_type": "code",
   "execution_count": null,
   "metadata": {},
   "outputs": [],
   "source": [
    "from matplotlib import pyplot as plt\n",
    "\n",
    "hours_reported =[3, 2.5, 2.75, 2.5, 2.75, 3.0, 3.5, 3.25, 3.25,  3.5, 3.5, 3.75, 3.75,4, 4.0, 3.75,  4.0, 4.25, 4.25, 4.5, 4.5, 5.0, 5.25, 5, 5.25, 5.5, 5.5, 5.75, 5.25, 4.75]\n",
    "exam_scores = [52.53, 59.05, 61.15, 61.72, 62.58, 62.98, 64.99, 67.63, 68.52, 70.29, 71.33, 72.15, 72.67, 73.85, 74.44, 75.62, 76.81, 77.82, 78.16, 78.94, 79.08, 80.31, 80.77, 81.37, 85.13, 85.38, 89.34, 90.75, 97.24, 98.31]\n",
    "\n",
    "plt.figure(figsize=(10,8))\n",
    "\n",
    "# Create your hours_lower_bound and hours_upper_bound lists here \n",
    "hours_lower_bound = [h - 0.2 * h for h in hours_reported]\n",
    "hours_upper_bound = [h + 0.2 * h for h in hours_reported]\n",
    "# Make your graph here\n",
    "plt.plot(exam_scores, hours_reported, linewidth=2)\n",
    "plt.fill_between(exam_scores, hours_lower_bound, hours_upper_bound, alpha=0.2)\n",
    "plt.title(\"Time spent studying vs final exam scores\")\n",
    "plt.xlabel(\"Score\")\n",
    "plt.ylabel(\"Hours studying (self-reported)\")\n",
    "#plt.show()\n",
    "plt.savefig(\"my_line_graph.png\")"
   ]
  },
  {
   "cell_type": "code",
   "execution_count": null,
   "metadata": {},
   "outputs": [],
   "source": []
  },
  {
   "cell_type": "code",
   "execution_count": null,
   "metadata": {},
   "outputs": [],
   "source": []
  },
  {
   "cell_type": "code",
   "execution_count": null,
   "metadata": {},
   "outputs": [],
   "source": []
  }
 ],
 "metadata": {
  "kernelspec": {
   "display_name": "Python 3",
   "language": "python",
   "name": "python3"
  },
  "language_info": {
   "codemirror_mode": {
    "name": "ipython",
    "version": 3
   },
   "file_extension": ".py",
   "mimetype": "text/x-python",
   "name": "python",
   "nbconvert_exporter": "python",
   "pygments_lexer": "ipython3",
   "version": "3.6.4"
  }
 },
 "nbformat": 4,
 "nbformat_minor": 2
}
