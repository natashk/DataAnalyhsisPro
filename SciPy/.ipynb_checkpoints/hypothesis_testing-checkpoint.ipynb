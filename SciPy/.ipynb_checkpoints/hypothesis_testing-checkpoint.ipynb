{
 "cells": [
  {
   "cell_type": "code",
   "execution_count": 4,
   "metadata": {},
   "outputs": [
    {
     "name": "stdout",
     "output_type": "stream",
     "text": [
      "2.7463117986584107e-10\n",
      "he Vein Pack Is Proven To Make You Live Longer!\n",
      "0.05588883079070819\n",
      "the Artery Package is also a great product!\n",
      "[[140, 29], [40, 87], [20, 29]]\n",
      "2.9227133549883315e-19\n",
      "The Artery Package Is Proven To Make You Healthier!\n"
     ]
    }
   ],
   "source": [
    "import familiar as fm\n",
    "from scipy.stats import ttest_1samp\n",
    "from scipy.stats import ttest_ind\n",
    "from scipy.stats import chi2_contingency\n",
    "\n",
    "vein_pack_lifespans = fm.lifespans(package='vein')\n",
    "\n",
    "\"\"\"\n",
    "use the 1-Sample T-Test to compare vein_pack_lifespans to the average life expectancy 71\n",
    "\"\"\"\n",
    "tstat, vein_pack_test =  ttest_1samp(vein_pack_lifespans, 71)\n",
    "print(vein_pack_test)\n",
    "\"\"\"\n",
    "2.74631179866e-10 < 0.05 => we've got significance\n",
    "\"\"\"\n",
    "if vein_pack_test < 0.05:\n",
    "  print(\"he Vein Pack Is Proven To Make You Live Longer!\")\n",
    "else:\n",
    "  print(\"The Vein Pack Is Probably Good For You Somehow!\")\n",
    "\n",
    "artery_pack_lifespans = fm.lifespans(package='artery')\n",
    "\n",
    "tstat, package_comparison_results = ttest_ind(vein_pack_lifespans, artery_pack_lifespans)\n",
    "print(package_comparison_results)\n",
    "if package_comparison_results < 0.05:\n",
    "  print(\"the Artery Package guarantees even stronger results!\")\n",
    "else:\n",
    "  print(\"the Artery Package is also a great product!\")\n",
    "\n",
    "\n",
    "iron_contingency_table = fm.iron_counts_for_package()\n",
    "print(iron_contingency_table)\n",
    "\n",
    "chi2, iron_pvalue, dof, expected = chi2_contingency(iron_contingency_table)\n",
    "print(iron_pvalue)\n",
    "if iron_pvalue < 0.05:\n",
    "  print(\"The Artery Package Is Proven To Make You Healthier!\")\n",
    "else:\n",
    "  print(\"While We Can't Say The Artery Package Will Help You, I Bet It's Nice!\")\n"
   ]
  },
  {
   "cell_type": "code",
   "execution_count": null,
   "metadata": {},
   "outputs": [],
   "source": []
  }
 ],
 "metadata": {
  "kernelspec": {
   "display_name": "Python 3",
   "language": "python",
   "name": "python3"
  },
  "language_info": {
   "codemirror_mode": {
    "name": "ipython",
    "version": 3
   },
   "file_extension": ".py",
   "mimetype": "text/x-python",
   "name": "python",
   "nbconvert_exporter": "python",
   "pygments_lexer": "ipython3",
   "version": "3.6.4"
  }
 },
 "nbformat": 4,
 "nbformat_minor": 2
}
