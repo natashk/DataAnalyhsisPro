{
 "cells": [
  {
   "cell_type": "code",
   "execution_count": 7,
   "metadata": {},
   "outputs": [
    {
     "ename": "ModuleNotFoundError",
     "evalue": "No module named 'fetchmaker'",
     "output_type": "error",
     "traceback": [
      "\u001b[1;31m---------------------------------------------------------------------------\u001b[0m",
      "\u001b[1;31mModuleNotFoundError\u001b[0m                       Traceback (most recent call last)",
      "\u001b[1;32m<ipython-input-7-f40b7e7a9f0d>\u001b[0m in \u001b[0;36m<module>\u001b[1;34m()\u001b[0m\n\u001b[0;32m      1\u001b[0m \u001b[1;32mimport\u001b[0m \u001b[0mnumpy\u001b[0m \u001b[1;32mas\u001b[0m \u001b[0mnp\u001b[0m\u001b[1;33m\u001b[0m\u001b[0m\n\u001b[1;32m----> 2\u001b[1;33m \u001b[1;32mimport\u001b[0m \u001b[0mfetchmaker\u001b[0m\u001b[1;33m\u001b[0m\u001b[0m\n\u001b[0m\u001b[0;32m      3\u001b[0m \u001b[1;32mfrom\u001b[0m \u001b[0mscipy\u001b[0m\u001b[1;33m.\u001b[0m\u001b[0mstats\u001b[0m \u001b[1;32mimport\u001b[0m \u001b[0mbinom_test\u001b[0m\u001b[1;33m\u001b[0m\u001b[0m\n\u001b[0;32m      4\u001b[0m \u001b[1;32mfrom\u001b[0m \u001b[0mscipy\u001b[0m\u001b[1;33m.\u001b[0m\u001b[0mstats\u001b[0m \u001b[1;32mimport\u001b[0m \u001b[0mf_oneway\u001b[0m\u001b[1;33m\u001b[0m\u001b[0m\n\u001b[0;32m      5\u001b[0m \u001b[1;32mfrom\u001b[0m \u001b[0mstatsmodels\u001b[0m\u001b[1;33m.\u001b[0m\u001b[0mstats\u001b[0m\u001b[1;33m.\u001b[0m\u001b[0mmulticomp\u001b[0m \u001b[1;32mimport\u001b[0m \u001b[0mpairwise_tukeyhsd\u001b[0m\u001b[1;33m\u001b[0m\u001b[0m\n",
      "\u001b[1;31mModuleNotFoundError\u001b[0m: No module named 'fetchmaker'"
     ]
    }
   ],
   "source": [
    "import numpy as np\n",
    "import fetchmaker\n",
    "from scipy.stats import binom_test\n",
    "from scipy.stats import f_oneway\n",
    "from statsmodels.stats.multicomp import pairwise_tukeyhsd\n",
    "from scipy.stats import chi2_contingency\n",
    "\n",
    "rottweiler_tl = fetchmaker.get_tail_length(\"rottweiler\")\n",
    "\n",
    "print(np.mean(rottweiler_tl))\n",
    "print(np.std(rottweiler_tl))\n",
    "\n",
    "\"\"\"\n",
    "Over the years, we have seen that we expect 8% of dogs in the FetchMaker system to be rescues. We want to know if whippets are significantly more or less likely to be a rescue.\n",
    "\"\"\"\n",
    "whippet_rescue = fetchmaker.get_is_rescue(\"whippet\")\n",
    "num_whippet_rescues = np.count_nonzero(whippet_rescue)\n",
    "print(num_whippet_rescues)\n",
    "num_whippets = np.size(whippet_rescue)\n",
    "print(num_whippets)\n",
    "\n",
    "pval = binom_test(num_whippet_rescues, n=num_whippets, p=0.08)\n",
    "print(pval)\n",
    "\n",
    "\"\"\"\n",
    "Three of our most popular mid-sized dog breeds are whippets, terriers, and pitbulls. Is there a significant difference in the average weights of these three dog breeds? Perform a comparative numerical test to determine if there is a significant difference.\n",
    "\"\"\"\n",
    "whippet_weight = fetchmaker.get_weight(\"whippet\")\n",
    "terrier_weight = fetchmaker.get_weight(\"terrier\")\n",
    "pitbull_weight = fetchmaker.get_weight(\"pitbull\")\n",
    "print(np.size(whippet_weight))\n",
    "print(np.size(terrier_weight))\n",
    "print(np.size(pitbull_weight))\n",
    "tstat, pval = f_oneway(whippet_weight, terrier_weight, pitbull_weight)\n",
    "print(pval)\n",
    "\n",
    "v = np.concatenate([whippet_weight, terrier_weight, pitbull_weight])\n",
    "labels = ['whippet_weight'] * len(whippet_weight) + ['terrier_weight'] * len(terrier_weight) + ['pitbull_weight'] * len(pitbull_weight)\n",
    "\n",
    "tukey_results = pairwise_tukeyhsd(v, labels, 0.05)\n",
    "print(tukey_results)\n",
    "\n",
    "\"\"\"\n",
    "We want to see if \"poodle\"s and \"shihtzu\"s have significantly different color breakdowns.\n",
    "\"\"\"\n",
    "poodle_colors = fetchmaker.get_color(\"poodle\")\n",
    "shihtzu_colors = fetchmaker.get_color(\"shihtzu\")\n",
    "color_table = [\n",
    "  [np.count_nonzero(poodle_colors == \"black\"), np.count_nonzero(shihtzu_colors == \"black\")],\n",
    "  [np.count_nonzero(poodle_colors == \"brown\"), np.count_nonzero(shihtzu_colors == \"brown\")],\n",
    "  [np.count_nonzero(poodle_colors == \"gold\"), np.count_nonzero(shihtzu_colors == \"gold\")],\n",
    "  [np.count_nonzero(poodle_colors == \"grey\"), np.count_nonzero(shihtzu_colors == \"grey\")],\n",
    "  [np.count_nonzero(poodle_colors == \"white\"), np.count_nonzero(shihtzu_colors == \"white\")]\n",
    "]\n",
    "print(color_table)\n",
    "chi2, pval, dof, expected = chi2_contingency(color_table)\n",
    "print(pval)\n"
   ]
  },
  {
   "cell_type": "code",
   "execution_count": null,
   "metadata": {},
   "outputs": [],
   "source": []
  }
 ],
 "metadata": {
  "kernelspec": {
   "display_name": "Python 3",
   "language": "python",
   "name": "python3"
  },
  "language_info": {
   "codemirror_mode": {
    "name": "ipython",
    "version": 3
   },
   "file_extension": ".py",
   "mimetype": "text/x-python",
   "name": "python",
   "nbconvert_exporter": "python",
   "pygments_lexer": "ipython3",
   "version": "3.6.4"
  }
 },
 "nbformat": 4,
 "nbformat_minor": 2
}
